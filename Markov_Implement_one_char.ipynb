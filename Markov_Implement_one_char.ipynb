{
 "cells": [
  {
   "cell_type": "code",
   "execution_count": 25,
   "metadata": {},
   "outputs": [],
   "source": [
    "import numpy as np\n",
    "import random\n",
    "import eng_to_ipa as ipa"
   ]
  },
  {
   "cell_type": "code",
   "execution_count": 71,
   "metadata": {},
   "outputs": [],
   "source": [
    "text = \"If I should stay I would only be in your way So I'll go but I know I'll think of you every step of the way And I... will always love you, ooh Will always love you You My darling, you... Mmm-mm Bittersweet memories – That is all I'm taking with me So good-bye Please don't cry: We both know I'm not what you, you need And I... will always love you I... will always love you You, ooh [Instrumental / Sax solo] I hope life treats you kind And I hope you have all you've dreamed of And I wish you joy and happiness But above all this I wish you love And I... will always love you I will always love you I will always love you I will always love you I will always love you I, I will always love you You Darling, I love you I'll always... I'll always love you Ooh Ooh \""
   ]
  },
  {
   "cell_type": "code",
   "execution_count": 72,
   "metadata": {},
   "outputs": [],
   "source": [
    "#text = open(\"hp.txt\", \"r\").read()\n"
   ]
  },
  {
   "cell_type": "code",
   "execution_count": 73,
   "metadata": {},
   "outputs": [],
   "source": [
    "text = ipa.convert(text)"
   ]
  },
  {
   "cell_type": "code",
   "execution_count": 74,
   "metadata": {},
   "outputs": [
    {
     "name": "stdout",
     "output_type": "stream",
     "text": [
      "ɪf aɪ ʃʊd steɪ aɪ wʊd ˈoʊnli bi ɪn jʊr weɪ soʊ aɪl goʊ bət aɪ noʊ aɪl θɪŋk əv ju ˈɛvəri stɛp əv ðə weɪ ənd aɪ... wɪl ˈɔlˌweɪz ləv ju, u wɪl ˈɔlˌweɪz ləv ju ju maɪ ˈdɑrlɪŋ, ju... mmm-mm* ˈbɪtərsˌwit ˈmɛməriz –* ðət ɪz ɔl əm ˈteɪkɪŋ wɪθ mi soʊ ˈgʊdˌbaɪ pliz doʊnt kraɪ: wi boʊθ noʊ əm nɑt wət ju, ju nid ənd aɪ... wɪl ˈɔlˌweɪz ləv ju aɪ... wɪl ˈɔlˌweɪz ləv ju ju, u [ˌɪnstrəˈmɛnəl  sæks ˈsoʊˌloʊ] aɪ hoʊp laɪf trits ju kaɪnd ənd aɪ hoʊp ju hæv ɔl juv drimd əv ənd aɪ wɪʃ ju ʤɔɪ ənd ˈhæpinəs bət əˈbəv ɔl ðɪs aɪ wɪʃ ju ləv ənd aɪ... wɪl ˈɔlˌweɪz ləv ju aɪ wɪl ˈɔlˌweɪz ləv ju aɪ wɪl ˈɔlˌweɪz ləv ju aɪ wɪl ˈɔlˌweɪz ləv ju aɪ wɪl ˈɔlˌweɪz ləv ju aɪ, aɪ wɪl ˈɔlˌweɪz ləv ju ju ˈdɑrlɪŋ, aɪ ləv ju aɪl ˈɔlˌweɪz... aɪl ˈɔlˌweɪz ləv ju u u\n"
     ]
    }
   ],
   "source": [
    "print(text)"
   ]
  },
  {
   "cell_type": "code",
   "execution_count": 75,
   "metadata": {},
   "outputs": [],
   "source": [
    "l = len(text)\n",
    "mat = np.zeros((7000,7000))"
   ]
  },
  {
   "cell_type": "code",
   "execution_count": 76,
   "metadata": {},
   "outputs": [],
   "source": [
    "seen = {}"
   ]
  },
  {
   "cell_type": "code",
   "execution_count": 77,
   "metadata": {},
   "outputs": [],
   "source": [
    "#toDo: change seen into a dictionary\n",
    "seen[text[0]] = 0\n",
    "count = 0\n",
    "prev = 0\n",
    "for i in range(1,len(text)):\n",
    "    if text[i] not in seen:\n",
    "        count+=1\n",
    "        seen[text[i]] = count\n",
    "    t = seen[text[i]]\n",
    "    mat[t][prev] += 1\n",
    "    prev = t"
   ]
  },
  {
   "cell_type": "code",
   "execution_count": 78,
   "metadata": {},
   "outputs": [],
   "source": [
    "#delete data of 1 or 0\n",
    "mat= np.delete(mat,np.where(~mat.any(axis=1))[0], axis=0)\n",
    "mat= np.delete(mat,np.where(~mat.any(axis=0))[0], axis=1)"
   ]
  },
  {
   "cell_type": "code",
   "execution_count": 79,
   "metadata": {},
   "outputs": [
    {
     "name": "stdout",
     "output_type": "stream",
     "text": [
      "[[ 0.  0.  2. ...  0.  0.  0.]\n",
      " [ 2.  0.  0. ...  0.  0.  0.]\n",
      " [19.  2.  1. ...  1.  0.  0.]\n",
      " ...\n",
      " [ 0.  0.  0. ...  0.  0.  0.]\n",
      " [ 0.  0.  3. ...  0.  0.  0.]\n",
      " [ 0.  0.  1. ...  0.  0.  0.]]\n"
     ]
    }
   ],
   "source": [
    "print(mat)"
   ]
  },
  {
   "cell_type": "code",
   "execution_count": 80,
   "metadata": {},
   "outputs": [],
   "source": [
    "sum_of_rows = mat.sum(axis=1)\n",
    "normalized_array = mat / sum_of_rows[:, np.newaxis]"
   ]
  },
  {
   "cell_type": "code",
   "execution_count": 81,
   "metadata": {},
   "outputs": [
    {
     "name": "stdout",
     "output_type": "stream",
     "text": [
      "{'ɪ': 0, 'f': 1, ' ': 2, 'a': 3, 'ʃ': 4, 'ʊ': 5, 'd': 6, 's': 7, 't': 8, 'e': 9, 'w': 10, 'ˈ': 11, 'o': 12, 'n': 13, 'l': 14, 'i': 15, 'b': 16, 'j': 17, 'r': 18, 'g': 19, 'ə': 20, 'θ': 21, 'ŋ': 22, 'k': 23, 'v': 24, 'u': 25, 'ɛ': 26, 'p': 27, 'ð': 28, '.': 29, 'ɔ': 30, 'ˌ': 31, 'z': 32, ',': 33, 'm': 34, 'ɑ': 35, '-': 36, '*': 37, '–': 38, ':': 39, '[': 40, 'æ': 41, ']': 42, 'h': 43, 'ʤ': 44}\n"
     ]
    },
    {
     "data": {
      "text/plain": [
       "array([[0.        , 0.        , 0.03030303, ..., 0.        , 0.        ,\n",
       "        0.        ],\n",
       "       [1.        , 0.        , 0.        , ..., 0.        , 0.        ,\n",
       "        0.        ],\n",
       "       [0.12101911, 0.01273885, 0.00636943, ..., 0.00636943, 0.        ,\n",
       "        0.        ],\n",
       "       ...,\n",
       "       [0.        , 0.        , 0.        , ..., 0.        , 0.        ,\n",
       "        0.        ],\n",
       "       [0.        , 0.        , 0.75      , ..., 0.        , 0.        ,\n",
       "        0.        ],\n",
       "       [0.        , 0.        , 1.        , ..., 0.        , 0.        ,\n",
       "        0.        ]])"
      ]
     },
     "execution_count": 81,
     "metadata": {},
     "output_type": "execute_result"
    }
   ],
   "source": [
    "print(seen)\n",
    "normalized_array"
   ]
  },
  {
   "cell_type": "code",
   "execution_count": 82,
   "metadata": {},
   "outputs": [
    {
     "data": {
      "text/plain": [
       "31"
      ]
     },
     "execution_count": 82,
     "metadata": {},
     "output_type": "execute_result"
    }
   ],
   "source": [
    "currRow = random.randint(0, normalized_array[0].size)\n",
    "currRow"
   ]
  },
  {
   "cell_type": "code",
   "execution_count": 83,
   "metadata": {},
   "outputs": [],
   "source": [
    "s = \"\"\n",
    "key_list = list(seen.keys())\n",
    "vals = list(seen.values())\n",
    "for i in range(7000):\n",
    "    n = random.randint(0, normalized_array[0].size)\n",
    "    totalN = 0\n",
    "    steps = 0\n",
    "    randie = np.random.rand(1)[0]\n",
    "    for p in normalized_array[currRow]:\n",
    "        totalN += p\n",
    "        if randie < totalN:\n",
    "            s+= key_list[vals.index(steps)]\n",
    "            currRow = steps\n",
    "            break\n",
    "        steps+=1\n",
    "        \n",
    "    "
   ]
  },
  {
   "cell_type": "code",
   "execution_count": 84,
   "metadata": {},
   "outputs": [
    {
     "data": {
      "text/plain": [
       "'ənitəndˌweɪŋksoʊ hoʊp weɪ wɪ.. wɪ.......... wʊ ˈoʊd ju ju ju ɔl s ju ju hoʊˌwɪ aɪkɪl aɪləv lˌwɪz ju ˈd u ju u  məmaɪz lənoʊ ləs ˈɔlˌwɪl ksˌwi ju aɪ aɪ m sts ˈoʊ ju aɪŋ, weɪz ju ələm* lɪ ju baɪf ˈmi hoʊθ l ju ˈɛnd θ ju d l aɪ aɪ wɪz ənd windɑtri wi md kaɪ weɪʃ l ˈboʊ ˈtr aɪ lˌwəv əˈɔlət ðɪ ðəlˌwʊnɑrlˌwɪl wɪ...... aɪlˌɪz ˈɔl l ju weɪ... juv jʊp ju ʃ ə ˈɔl sˌwʊ ˈɔlɪlˌweɪ soʊ] [ˌwɪz ju, nd ˈɔl aɪ ju wɪ [ˌwiz witə ðəm-mm kɪs aɪlənteɪ aɪnəmɛv aɪ. ju, trlərl ju l s ʤɔləv aɪz k ju ətsoʊnd ˈɔl hoʊ hoʊpimd ət ju p ðɪ ju ˈhoʊd ˈgoʊ weɪlˌweɪsoʊθɪ  aɪ bəm* əv ju wɪ aɪz aɪŋ, p weɪlənoʊpi ˈd l wɪ ˈɔl lət ju. aɪl wɪz mmm ˈɔl ˈs juv ju ju... ˈɔləˈgʊ aɪ tɛv u ˈbaɪŋ, ju ʤɔlˌweɪtɛv ju ləmɛv ˈɔl ju, lˌwim ˈɔl wɪ ju ju aɪlˌweɪz ju, ju ləv aɪl weɪlaɪ niz l əˈɔl əv ɪ aɪ ju aɪŋ ˈbimidoʊ] əritəv aɪz soʊd aɪlˌwɪz.... ɪ aɪ ju ˈm aɪ t ju ˈbit aɪ: ju ˈm θɪz hoʊd ɪ ˈm ju ˈɔlˌl əv ju ənd ðəv ˈbinəv aɪz d aɪ ərləv ðɪŋksæp ðət ləvərid əv ju, aɪŋkɪ ˈɔl l aɪz ju ðəri u, ˈɛv aɪθ ət wɪl aɪ ju ʃ ˈbəv ju juv əv əv ˈɔlɪl ˈsoʊˌboʊdˌweɪ ju ju ju jʊ weɪθ ju nt ju nd ju t u ju ju ju, ˈɔlˌweɪkaɪz aɪz ju ənl ˈhoʊ soʊ] ju ju ɔləv s ju u, aɪt weɪ [ˌwiz aɪlˌwɪksæp lˌwɪkɪli aɪ u mmaɪ ˈɔl ləv aɪnə ə ju u weɪs bəˈɔl u... ju, ju stəv weɪ laɪ baɪl ðənɑt ju ˈɔlˌweɪŋ, d l hoʊ k əv aɪθɪz wɪlənd wɪz aɪʃ ˈɔləsoʊ wɪstsoʊ aɪ wɪz aɪz ləv mdˌweɪ weɪsoʊd mmm ˈhæp ju lˌweɪz wiz weɪz.. ju wɪ lˌɪz ˈɔl wəv strənd aɪləm ˈɔlˌweɪl ju ˈɔlˌɪz ju ˈɔl aɪl u [ˌweɪnd u ðɪf ˈɔləv aɪ ju ju ju bəˈd aɪz ˈɔlˌwɪz...... θɪ ˈhæv wɪl weɪθɪz aɪʃ ju l lər ju ləv juv ˈɔl weɪŋ ˈɔlənoʊnd ˈs  weɪ weɪz ju əndˌweɪz ˈɔlənoʊ ju s u. ˈɔl wɪz ɔl wɪlaɪləv əˈboʊnd wɪz. aɪl ju məm* l ənd wi aɪləv sˌbənl weɪz wɪ... lˌweɪ u əv aɪŋ, lərləˈhæksoʊp ðɪŋ, mɛnd aɪ ɔl əv ju aɪ ju aɪŋ ˈɔl li ndɑri ˈoʊpi nɑrləv ju ju hoʊˌwɪ, wɪl aɪnəmmɛmmɛmi weɪl əv jʊ d aɪ, ɪnoʊnəst aɪ wɪ θ aɪlˌl θ əv weɪnɑrlˌwit ju, ju ni ʃʊ wɪ ɪz wɪlˌweɪz.. jʊ ndɑtri ɔlˌwɪŋ weɪlaɪ. wɪ ˈɔl aɪlˌwɪnd soʊˌweɪŋ u jʊdoʊdɑrləri ˈɔləv ju ju aɪŋ, –* st mɛp ʃ lələrinoʊ ˈɔl ju, ʃ ənd soʊ u ˈɔɪz ju kaɪl lˌl ɪŋk ju ˈtəv əv ləv ju ðɪz.... əˈm-mimɛmaɪz  ju aɪz aɪ... aɪnoʊ ju aɪz ˈɔlənət ju wɪʃʊ aɪ ðəv aɪz u aɪlit θ wid weɪŋ, ɔlˌbimm* ju bəˈɔlənd hæk ju s ju aɪl goʊ aɪθ ˈmə məv ðəv l ju əlˌweɪlˌboʊˌwɪl əv əv aɪz wɪl əv bəmɛv əm-məv əv u ˈm-mɛv mmiz jʊdrs plɪf lˌwɪʃ l aɪ... ɔlˌwəv wɪ ə ju ju ˈɛp l ˈbits ˈoʊ ju l ˈɔləməv hoʊrsoʊrsoʊ] s ˈstriz goʊd ˈt u ˈɔl əlɪlˌwɪŋk ju ju, lˌwit ˈɛnl ˈɔləv ju l weɪ.. lɪ.... aɪz. aɪz ˈd ju,  ˈhoʊ ju aɪ u ju ˈm* ən aɪn ərlˌwɪz ˈt aɪ ðəmmiz l hoʊˌwɪŋks lˌweɪndɑraɪz lˌbəˈɔl ənlˌweɪləv u əˈɔl wɪ. ˈdˌweɪz u wɪteɪ lɪ ˈɔl hoʊθɪf ˈhæv steɪt aɪf ðənt ət aɪ gʊ weɪf hoʊd ju ˈɔləv lˌwɪ.... lˌweɪŋ, aɪŋ, wɪ aɪ. wɪl ˈd weɪlˌɪlˌweɪl əv ju ju aɪ əl ju ju..... aɪndɑteɪ [ˌwɪ wiz ˈd ju ləv ˈɔləv əv weɪz ju ju, soʊ ˈt ju wid m-md ju u aɪ wɪ. ənd ðəv wɪndoʊ aɪ: u draɪ ju noʊd ˈoʊ ju ˈhoʊ wɪ. ju ju ʤɔlətɛpləv aɪz boʊd ˈɔliteɪ. ərl s ju weɪkraɪ goʊ aɪ wʊ ləv ju ju ɔɪz ju aɪləˈɔl maɪlˌli aɪ, l limɛnət l wɪ aɪz aɪz ɪz ju loʊ] lˌwi aɪz u ɪlaɪ. aɪnd kaɪz wɪl aɪləv ˈdˌlˌweɪnd trəv l weɪ ˈhækaɪŋ, aɪz θ aɪz ˈd əv –* ju aɪ, ɔl wənɑrsoʊp ˈɔlətəˈboʊnd ənd l wɪ, ju u, ju, nəv əv aɪləˈmimənd ɔɪl wimaɪŋ, əri bənəv wɪ. ət d nsoʊrl dɑrəv wɪt ˈmɛv ˈɔl ju weɪz t θɪŋ, wɪl ðəriz aɪ aɪl aɪ hæv əˈɔlˌweɪŋ, lˌwɪ əndˌwɪlˌwit –* lə ənoʊ weɪ wi əvəv ju ˈɔl əˈɔl u ðəri aɪl s ˈɔl juv ju lɪ ˈɔlˌweɪlɪ: ju l ju aɪf aɪl ənəmm* ju aɪ, wɪz ˈboʊ weɪz gʊ wɪ lət kaɪ aɪlˌweɪ ju weɪ aɪz ju weɪlaɪ aɪŋ l weɪl ju p ju aɪz l [ˌɪləv d l ləˈbəv sˌweɪ wit ju ju ðɪlˌweɪ.. wʊpid ju kaɪ ˈteɪlˌweɪz [ˌwɪ ˈhoʊθ sˌɪlənoʊp ju ləv ərsoʊpiniz ˈɔlˌwʊ weɪ wɪ wɪf soʊ ənd əv ˈɔl nidɑrid ləv aɪz loʊd aɪz ˈhækrl ɔlˌweɪz ˈɔl aɪz gʊd goʊ l weɪŋ, ˈɔl k ləv kaɪŋkraɪl hæp hoʊraɪ d ˈɔlələteɪləndɑrsteɪnd ˈm aɪz lˌwɪ θɪl weɪʃ ɪ... ju l wɪlənst nɑrinɑt lɪləm-mm s [ˌwɪ..... ju s aɪ aɪ ju nd bɪst u ˈɔlət ntsoʊraɪl lid aɪf ˈbiteɪ juv ju əst əv ə p kaɪz u ju aɪf ˈgoʊ ˈɔlˌweɪ nitr laɪz d ləˈbəˈɔl ju, bɪteɪŋ ɔl ju weɪz bɪndˌwɪl ˈɔl weɪ ˈbɪz jʊ] ənd aɪ ɪ nɑriz ju ju əv ɔləritr l nd ˈɔl wɪ  ju ˈɔlˌwɪz ˈoʊd aɪlənsoʊ ˈd wɪz ˈbəv aɪ. bəv aɪ weɪ ju, əˈɔlən u ˈɔl ˈd ʃ weɪlˌweɪ weɪl wɪlˌwɪ, ˈɔləv ɔl aɪlˌwɪz ˈbaɪlɪl k weɪnəˈd juv ˈɔlˌweɪz aɪ k aɪlˌweɪ aɪlˌl ˈgoʊd weɪz aɪz weɪ, ˈbənoʊnoʊp ˈdˌwɪz s əv aɪləv ˈɔlaɪl əv θ weɪz ˈɔlˌwɪz ɔlətstət aɪ nd ju, əv ju weɪnd əv aɪz ju əv ɪl ˈɔl aɪŋ, [ˌweɪŋ, lˌwɪʃʊpl ʤɔlit lˌwəv ju aɪlˌweɪ.... ðəv weɪʃʊˌweɪŋkritrst st ju ju ju ju ju əv stɛv ju mməv hæv hoʊ weɪlˌbəmmɛm aɪnd wi ju wɪlˌwɪ ju məmɛp aɪŋ, l ˈt ju, ˈɔlət ju mmit weɪz wɪŋ aɪθɪlaɪz... wɪlɪ wɪ ˈoʊ bɪz aɪt ʃ ˈoʊnɑrst əriz l kɪ.. ˈhoʊnoʊp aɪsˌwɪ [ˌweɪ ju ˈɔl aɪŋ, wɪlˌbəv aɪl wɪ ˈbit əˈoʊ aɪlənɑrələv aɪz ðətəri əndrəv əv s st bəvəv aɪ dˌwɪ u.. ju weɪ weɪ əv  weɪlˌɪ ʤɔlənoʊ ətənəv ˈmim [ˌwɪ lɪt ju, aɪsteɪ plət aɪ əvə jʊd ju. laɪz əniz əv weɪ ju ju ləri hoʊnd lˌweɪ,  aɪθ θɪk lˌwɪ.. p ləmaɪz. aɪ...... u ju ju bɪ..... hoʊ aɪz t weɪsoʊ aɪ ˈɔɪ aɪz ɔl aɪz ɪz aɪ θɪ aɪz aɪz hoʊ l miz. aɪz lˌwɪʃ əv wɪ weɪz ju lənd d l u ɔlˌweɪz ˈɔlˌwɪ mmiz ju, əv ʤɔlˌweɪloʊˌwiz ʃʊd ðɪŋkrs ˈɔl li ˈmaɪ. weɪθ jʊ wɪ aɪŋkrs aɪz aɪ ˈɔlˌwi li ju soʊd ˈɔlˌwɪʃʊndr ˈɛv ər aɪz ju ˈd wɪf ju ˈɔləntɛv ərind ju ɪ hoʊp ˈɔlˌweɪləv ju, ˈɔlə t pi trl əv hæp ɔlˌweɪz wɪz [ˌwɪlˌweɪ əv θ sæv ləri lətr ðəv wɪz aɪ weɪz aɪ ˈɔlˌlənlˌweɪŋkri aɪ............ əv aɪndrənlˌwənd ju ləˈoʊnləv aɪk əri ju ˈd lˌwɪt ju ˈs d ənəv l doʊ ˈhoʊ] lət əv lˌboʊ ɔləv ju əv piz ðəˈɔlˌweɪ sæksˌɪləv aɪŋ wənd ju wɪ. ju aɪθɪz ju aɪlˌweɪ weɪl d ju wɪŋ jʊ] ərlˌwi ðə weɪt aɪʃ l weɪ ləv tri ˈoʊnt l s ɔɪz aɪz ju wɪz  lˌweɪŋ ju ˈgʊndɑraɪ aɪz hæv ju weɪf ʃʊθ s ðətrəv aɪststeɪ ˈoʊnini aɪl ˈɔlənd aɪz əm wɪf ju jʊp ju p d ndr lˌwɪŋ boʊ weɪ weɪ ʤɔlɪ ju u weɪz kaɪl aɪlˌweɪ ju ʤɔɪ ət ˈɔləv [ˌlət əv ɔl əmaɪ doʊ] plˌweɪ... lˌweɪ lɪz u wɪz ɔlˌweɪf –* ðəv ju aɪ. ɔləv ju wɪŋ, ju ju ˈɔlˌl hoʊ ˈmm lˌwɪl mi ɔləv weɪz aɪ aɪsoʊp wɪliz aɪz li ɪ bi ɔl ju ˈɔliz ˈɔl ju ju wɪ aɪʃ ˈɔl ˈdɑteɪ əv ju l ˈoʊd aɪ.. u aɪ ˈɔlət d juv ju, weɪz ˈɔlənd ˈɔl aɪz aɪlˌɪlət aɪlənd ɔl ju ju, s ˈɔlˌweɪ weɪz weɪz ju aɪl aɪθɪ ˈɔl aɪf soʊ weɪk ˈmmaɪ ju maɪ, aɪl m-məv weɪz əv ju əv ˈhoʊpl wiz.. ˈɔlˌwɪf weɪ ət mət ˈɔləv aɪz ˈɔl ju teɪŋ, hæp ju wɪləˈɔlˌweɪ, ju hæk mmɛmɛnl weɪz əˈɔl s aɪn ju mmdri ˈɔlˌɪŋkstriz aɪlɪtraɪz d ˈɔl boʊθɪlˌwɪ weɪz ˈoʊdɑrəv aɪz lˌweɪ aɪl wəntəv st goʊ ju ˈɛpit ju, l aɪ s ju wəv weɪθ ju wɪz ɪ əv ðəv l ˈgʊˌweɪndɑtr jʊpi ju, aɪl aɪləv ju d ˈd wi aɪz ˈd weɪŋksˌwɪz lɪz wɪ hæpid ju wɪ: ˈɔlɪsoʊrid ðɪz hoʊd ˈɔləv əv ju, ɔl ju, ət ˈbəv ksoʊθ ənd p ɔl st p juv ɔl weɪndrst θɪŋ θ pl ˈhæk hæp əvəv aɪlˌwiteɪ ˈməv wɪnsoʊ] ˈgʊ ə ju ju aɪŋ, ju aɪ lˌwɪz stɛmənd bənd ɔl s ju stri əv aɪləv mdoʊθ ˈmmm* ɔləv wɪŋksoʊ –* ˈɔlˌwɪz aɪŋ, ju əv ə aɪləv nɑri weɪz aɪ ju ˈɔl ˈɔɪl wɪŋ, u hoʊnd weɪz əv aɪ.... aɪz aɪ wi u əv weɪ ˈt aɪ ˈɔlˌwi u gʊpi ju bɪz ˈoʊˌwɪŋ, u aɪ ə –* əm sˌwəriz. əv əvəv əv ˈbaɪz ðəv –* aɪnd lət ˈmdɑrənoʊ] ˈgʊd u soʊ] ˈɔlɪlˌweɪləv u wɪŋkraɪ wɪ aɪ wɪ  hæv d ju..... weɪntɛp aɪnɑtəl ɔlimi ənd θɪ nɑr l wɪŋ, əv ðɪloʊpl ləv ləv ju əˈɔl ʃ ju aɪz aɪ p əteɪləˈgʊθ əv l mɛmənoʊd bi ˈmɛpləv ˈhæplˌweɪlˌwɪ wɪŋkɪz ju. bəv ˈməv ðɪ weɪʃ aɪ ju lətɛnoʊ weɪləv əv jʊp ˈhæk laɪz əm-mmətəv ju ju ənoʊ wɪf trən –* ju l əv aɪ noʊdoʊ ju aɪ hoʊriz ndrl wɪ ˈɔl'"
      ]
     },
     "execution_count": 84,
     "metadata": {},
     "output_type": "execute_result"
    }
   ],
   "source": [
    "s[::-1]"
   ]
  },
  {
   "cell_type": "code",
   "execution_count": null,
   "metadata": {},
   "outputs": [],
   "source": []
  },
  {
   "cell_type": "code",
   "execution_count": null,
   "metadata": {},
   "outputs": [],
   "source": []
  }
 ],
 "metadata": {
  "kernelspec": {
   "display_name": "Python 3 (ipykernel)",
   "language": "python",
   "name": "python3"
  },
  "language_info": {
   "codemirror_mode": {
    "name": "ipython",
    "version": 3
   },
   "file_extension": ".py",
   "mimetype": "text/x-python",
   "name": "python",
   "nbconvert_exporter": "python",
   "pygments_lexer": "ipython3",
   "version": "3.8.9"
  }
 },
 "nbformat": 4,
 "nbformat_minor": 4
}
